{
  "nbformat": 4,
  "nbformat_minor": 0,
  "metadata": {
    "colab": {
      "name": "LetsUpgrade Assignment 1.ipynb",
      "provenance": [],
      "authorship_tag": "ABX9TyPIHOP0kc7PlPqP8l/3ILVs",
      "include_colab_link": true
    },
    "kernelspec": {
      "name": "python3",
      "display_name": "Python 3"
    },
    "language_info": {
      "name": "python"
    }
  },
  "cells": [
    {
      "cell_type": "markdown",
      "metadata": {
        "id": "view-in-github",
        "colab_type": "text"
      },
      "source": [
        "<a href=\"https://colab.research.google.com/github/Aswathigopi173/LEARN.PY/blob/main/LetsUpgrade_Assignment_1.ipynb\" target=\"_parent\"><img src=\"https://colab.research.google.com/assets/colab-badge.svg\" alt=\"Open In Colab\"/></a>"
      ]
    },
    {
      "cell_type": "code",
      "execution_count": 7,
      "metadata": {
        "colab": {
          "base_uri": "https://localhost:8080/"
        },
        "id": "Yr6fwxocFFgD",
        "outputId": "ff5df20b-e1f4-4f28-948b-20b770e0991f"
      },
      "outputs": [
        {
          "output_type": "stream",
          "name": "stdout",
          "text": [
            "Enter numbers: 30 40 50 60 70 80\n",
            "Sum:  330\n"
          ]
        }
      ],
      "source": [
        "x = [int(i) for i in input('Enter numbers: ').split()]\n",
        "sum = 0\n",
        "for i in x:\n",
        "  sum += i\n",
        "print('Sum: ', sum)"
      ]
    }
  ]
}